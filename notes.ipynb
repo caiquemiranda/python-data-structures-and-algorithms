{
 "cells": [
  {
   "cell_type": "markdown",
   "metadata": {},
   "source": [
    "#### Teste de algoritmos "
   ]
  },
  {
   "cell_type": "code",
   "execution_count": 8,
   "metadata": {},
   "outputs": [
    {
     "name": "stdout",
     "output_type": "stream",
     "text": [
      "267914296\n"
     ]
    }
   ],
   "source": [
    "def fibonacci(n):\n",
    "    n1 = 1\n",
    "    n2 = 1\n",
    "    for i in range(n-1):\n",
    "        total = n1 + n2\n",
    "        n2 = n1\n",
    "        n1 = total\n",
    "    \n",
    "    return n2\n",
    "\n",
    "\n",
    "f = fibonacci(42)\n",
    "print(f)"
   ]
  },
  {
   "cell_type": "code",
   "execution_count": 1,
   "metadata": {},
   "outputs": [
    {
     "name": "stdout",
     "output_type": "stream",
     "text": [
      "posição do valor  2\n",
      "[3, 5, 8, 9, 10, 22, 45, 455, 500, 900, 4253]\n"
     ]
    }
   ],
   "source": [
    "vector = [8, 3, 5, 9, 10, 22, 45, 500, 455, 900, 4253]\n",
    "\n",
    "vector.sort()\n",
    "ponteiro = 0\n",
    "tamanhovetor = len(vector)\n",
    "encontrado = False\n",
    "\n",
    "numero = int(input(\"Digite un numero: \"))\n",
    "\n",
    "while not(encontrado) and ponteiro <= tamanhovetor:\t\n",
    "\tmetade = int((ponteiro+tamanhovetor) / 2)\n",
    "\t\n",
    "\tif numero == vector[metade]:\t\t\n",
    "\t\tencontrado = True\n",
    "\t\n",
    "\telif numero < vector[metade]:\t\t\n",
    "\t\ttamanhovetor = metade - 1\n",
    "\t\n",
    "\telse:\t\n",
    "\t\tponteiro = metade + 1\n",
    "\n",
    "if(encontrado):\n",
    "\tprint(\"posição do valor \", str(metade+1))\n",
    "\tprint(vector)\n",
    "\n",
    "else:\n",
    "\tprint(\"valor não econtrado\")"
   ]
  }
 ],
 "metadata": {
  "interpreter": {
   "hash": "ad2bdc8ecc057115af97d19610ffacc2b4e99fae6737bb82f5d7fb13d2f2c186"
  },
  "kernelspec": {
   "display_name": "Python 3.8.8 ('base')",
   "language": "python",
   "name": "python3"
  },
  "language_info": {
   "codemirror_mode": {
    "name": "ipython",
    "version": 3
   },
   "file_extension": ".py",
   "mimetype": "text/x-python",
   "name": "python",
   "nbconvert_exporter": "python",
   "pygments_lexer": "ipython3",
   "version": "3.8.8"
  },
  "orig_nbformat": 4
 },
 "nbformat": 4,
 "nbformat_minor": 2
}
